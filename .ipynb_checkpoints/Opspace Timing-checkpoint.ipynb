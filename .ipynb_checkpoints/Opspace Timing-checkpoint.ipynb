{
 "cells": [
  {
   "cell_type": "code",
   "execution_count": 1,
   "metadata": {},
   "outputs": [],
   "source": [
    "import numpy as np\n"
   ]
  },
  {
   "cell_type": "markdown",
   "metadata": {},
   "source": [
    "## Mass matrix inverse\n",
    "\n",
    "$M^{-1}$ \n",
    "``` python\n",
    "mass_matrix_inv = scipy.linalg.inv(mass_matrix)\n",
    "```\n",
    "Time 6.7494729800018406e-05"
   ]
  },
  {
   "cell_type": "code",
   "execution_count": 110,
   "metadata": {},
   "outputs": [],
   "source": [
    "def mean_of_file(filepath):\n",
    "    dataset = np.loadtxt(filepath)[2:]\n",
    "    return np.mean(dataset)"
   ]
  },
  {
   "cell_type": "code",
   "execution_count": 111,
   "metadata": {},
   "outputs": [
    {
     "name": "stdout",
     "output_type": "stream",
     "text": [
      "Scipy: 6.74849971497e-05\n",
      "Numpy: 0.00226980562606\n"
     ]
    }
   ],
   "source": [
    "# Minv_all = np.loadtxt('dev/timing/mass_matrix_inv.txt')\n",
    "# average = np.mean(Minv_all)\n",
    "print(\"Scipy: \" + str(mean_of_file('dev/timing/mass_matrix_inv.txt')))\n",
    "print(\"Numpy: \" + str(mean_of_file('dev/timing/np_mass_matrix_inv.txt')))\n"
   ]
  },
  {
   "cell_type": "markdown",
   "metadata": {},
   "source": [
    "## Lambda Full Inverse\n",
    "\n",
    "$\\Lambda^{-1} = J M^{-1} J^{T}$\n",
    "```python\n",
    "\n",
    "lambda_full_inv = np.dot(\n",
    "    np.dot(J_full, mass_matrix_inv),\n",
    "    J_full.transpose())\n",
    "    ```\n",
    "1.0796194399996173e-05"
   ]
  },
  {
   "cell_type": "code",
   "execution_count": 112,
   "metadata": {},
   "outputs": [
    {
     "name": "stdout",
     "output_type": "stream",
     "text": [
      "Scipy: 1.07959357436e-05\n",
      "Numpy: 7.42383258825e-05\n"
     ]
    }
   ],
   "source": [
    "print(\"Scipy: \" + str(mean_of_file('dev/timing/lambda_full_inv.txt')))\n",
    "print(\"Numpy: \" + str(mean_of_file('dev/timing/np_lambda_full_inv.txt')))"
   ]
  },
  {
   "cell_type": "markdown",
   "metadata": {},
   "source": [
    "## Lambda Full \n",
    "$\\Lambda = (\\Lambda^{-1})^{-1}$\n",
    "```python\n",
    "\n",
    "    lambda_full = scipy.linalg.inv(lambda_full_inv)\n",
    "    ```\n",
    "1.0796194399996173e-05"
   ]
  },
  {
   "cell_type": "code",
   "execution_count": 113,
   "metadata": {},
   "outputs": [
    {
     "name": "stdout",
     "output_type": "stream",
     "text": [
      "Scipy: 4.87444582958e-05\n",
      "Numpy: 0.000297469925843\n"
     ]
    }
   ],
   "source": [
    "print(\"Scipy: \" + str(mean_of_file('dev/timing/lambda_full.txt')))\n",
    "print(\"Numpy: \" + str(mean_of_file('dev/timing/np_lambda_full.txt')))"
   ]
  },
  {
   "cell_type": "markdown",
   "metadata": {},
   "source": [
    "## Lambda position Inverse\n",
    "${\\Lambda_x}^{-1} = J_x M^{-1} J_x^{T}$\n",
    "```python\n",
    "    lambda_pos_inv = np.dot(\n",
    "        np.dot(J_pos, mass_matrix_inv),\n",
    "        J_pos.transpose())\n",
    " ```\n",
    "1.2304172200011143e-05"
   ]
  },
  {
   "cell_type": "code",
   "execution_count": 114,
   "metadata": {},
   "outputs": [
    {
     "data": {
      "text/plain": [
       "1.2303643614372573e-05"
      ]
     },
     "execution_count": 114,
     "metadata": {},
     "output_type": "execute_result"
    }
   ],
   "source": [
    "mean_of_file('dev/timing/lambda_pos_inv.txt')"
   ]
  },
  {
   "cell_type": "markdown",
   "metadata": {},
   "source": [
    "## Lambda orientation inverse\n",
    "${\\Lambda_\\theta}^{-1} = J_\\theta M^{-1} J_\\theta^{T}$\n",
    "```python\n",
    "lambda_ori_inv = np.dot(\n",
    "        np.dot(J_ori, mass_matrix_inv),\n",
    "        J_ori.transpose())\n",
    "```\n",
    "7.6941466999994818e-06"
   ]
  },
  {
   "cell_type": "code",
   "execution_count": 115,
   "metadata": {},
   "outputs": [
    {
     "data": {
      "text/plain": [
       "7.6941732673262132e-06"
      ]
     },
     "execution_count": 115,
     "metadata": {},
     "output_type": "execute_result"
    }
   ],
   "source": [
    "mean_of_file('dev/timing/lambda_ori_inv.txt')"
   ]
  },
  {
   "cell_type": "markdown",
   "metadata": {},
   "source": [
    "## SVD of Lambda position inverse\n",
    "$ \\Lambda_x^{-1} = U S V $\n",
    "```python\n",
    "    svd_u, svd_s, svd_v = np.linalg.svd(lambda_pos_inv)\n",
    "    ```\n",
    "mean_of_file('dev/timing/lambda_pos_svd.txt')\n",
    "\n",
    "6.0285289299977186e-05"
   ]
  },
  {
   "cell_type": "code",
   "execution_count": 116,
   "metadata": {},
   "outputs": [
    {
     "name": "stdout",
     "output_type": "stream",
     "text": [
      "6.02809328933e-05\n",
      "0.000285288917642\n"
     ]
    }
   ],
   "source": [
    "print(mean_of_file('dev/timing/lambda_pos_svd.txt'))\n",
    "print(mean_of_file('dev/timing/np_lambda_pos_svd.txt'))"
   ]
  },
  {
   "cell_type": "markdown",
   "metadata": {},
   "source": [
    "## Zero out singularities\n",
    "$s_{ij}^{-1} = 0  \\mbox{ if }  s_{ij} < \\mbox{threshold;} $\n",
    "                 $\\mbox{ else }  \\frac{1}{s_{ij}}$\n",
    "```python\n",
    "svd_s_inv = [0 if x < singularity_threshold else 1. / x for x in svd_s]\n",
    "```\n",
    "\n",
    "8.964183549996907e-06"
   ]
  },
  {
   "cell_type": "code",
   "execution_count": 117,
   "metadata": {},
   "outputs": [
    {
     "name": "stdout",
     "output_type": "stream",
     "text": [
      "5.62285548055e-05\n"
     ]
    }
   ],
   "source": [
    "mean_of_file('dev/timing/svd_s_inv.txt')\n",
    "print(mean_of_file('dev/timing/np_svd_s_inv.txt'))"
   ]
  },
  {
   "cell_type": "markdown",
   "metadata": {},
   "source": [
    "## Lambda position\n",
    "$\\Lambda_x = V^{T}  D_{S^{-1}}   U^{T}$\n",
    "```python\n",
    "lambda_pos = svd_v.T.dot(np.diag(svd_s_inv)).dot(svd_u.T)\n",
    "```\n",
    "7.6941466999994818e-06"
   ]
  },
  {
   "cell_type": "code",
   "execution_count": 118,
   "metadata": {},
   "outputs": [
    {
     "data": {
      "text/plain": [
       "2.7542371537136958e-05"
      ]
     },
     "execution_count": 118,
     "metadata": {},
     "output_type": "execute_result"
    }
   ],
   "source": [
    "mean_of_file('dev/timing/lambda_pos.txt')"
   ]
  },
  {
   "cell_type": "markdown",
   "metadata": {},
   "source": [
    "## SVD of Lambda orientation inverse\n",
    "$ \\Lambda_{\\theta}^{-1} = U S V $\n",
    "```python\n",
    "    svd_u, svd_s, svd_v = np.linalg.svd(lambda_ori_inv)\n",
    "    ```\n",
    "5.0117376049997905e-05"
   ]
  },
  {
   "cell_type": "code",
   "execution_count": 119,
   "metadata": {},
   "outputs": [
    {
     "data": {
      "text/plain": [
       "5.0117414791477127e-05"
      ]
     },
     "execution_count": 119,
     "metadata": {},
     "output_type": "execute_result"
    }
   ],
   "source": [
    "mean_of_file('dev/timing/lambda_ori_svd.txt')"
   ]
  },
  {
   "cell_type": "markdown",
   "metadata": {},
   "source": [
    "## Zero out singularities\n",
    "$s_{ij}^{-1} = 0  \\mbox{ if }  s_{ij} < \\mbox{threshold;} $\n",
    "                 $\\mbox{ else }  \\frac{1}{s_{ij}}$\n",
    "```python\n",
    "svd_s_inv = [0 if x < singularity_threshold else 1. / x for x in svd_s]\n",
    "```\n",
    "7.2711151000011129e-06"
   ]
  },
  {
   "cell_type": "code",
   "execution_count": 120,
   "metadata": {},
   "outputs": [
    {
     "data": {
      "text/plain": [
       "7.2711018101821105e-06"
      ]
     },
     "execution_count": 120,
     "metadata": {},
     "output_type": "execute_result"
    }
   ],
   "source": [
    "mean_of_file('dev/timing/svd_s_inv_ori.txt')"
   ]
  },
  {
   "cell_type": "markdown",
   "metadata": {},
   "source": [
    "## Lambda orientation\n",
    "$\\Lambda_\\theta = V^{T}  D_{S^{-1}}   U^{T}$\n",
    "```python\n",
    "lambda_pos = svd_v.T.dot(np.diag(svd_s_inv)).dot(svd_u.T)\n",
    "```\n",
    "2.1798027649985617e-05"
   ]
  },
  {
   "cell_type": "code",
   "execution_count": 121,
   "metadata": {},
   "outputs": [
    {
     "data": {
      "text/plain": [
       "2.1798112211206795e-05"
      ]
     },
     "execution_count": 121,
     "metadata": {},
     "output_type": "execute_result"
    }
   ],
   "source": [
    "mean_of_file('dev/timing/lambda_ori.txt')"
   ]
  },
  {
   "cell_type": "code",
   "execution_count": null,
   "metadata": {},
   "outputs": [],
   "source": []
  },
  {
   "cell_type": "markdown",
   "metadata": {},
   "source": [
    "## Jbar - Dynamically Consistent Jacobian\n",
    "$\\overline{J} = M^{-1} J^{T} \\Lambda^{-1}$\n",
    "```python\n",
    "    Jbar = np.dot(mass_matrix_inv, J_full.transpose()).dot(lambda_full)\n",
    "    ```\n",
    "7.8618086499946388e-06"
   ]
  },
  {
   "cell_type": "code",
   "execution_count": 122,
   "metadata": {},
   "outputs": [
    {
     "data": {
      "text/plain": [
       "7.861763276322258e-06"
      ]
     },
     "execution_count": 122,
     "metadata": {},
     "output_type": "execute_result"
    }
   ],
   "source": [
    "mean_of_file('dev/timing/jbar.txt')"
   ]
  },
  {
   "cell_type": "markdown",
   "metadata": {},
   "source": [
    "## Nullspace matrix\n",
    "$N = In(J) - (\\bar{J} J)$\n",
    "```python\n",
    "nullspace_matrix = np.eye(J_full.shape[-1], J_full.shape[-1]) - np.dot(Jbar, J_full)\n",
    "```"
   ]
  },
  {
   "cell_type": "code",
   "execution_count": 123,
   "metadata": {},
   "outputs": [
    {
     "data": {
      "text/plain": [
       "1.8193901490130436e-05"
      ]
     },
     "execution_count": 123,
     "metadata": {},
     "output_type": "execute_result"
    }
   ],
   "source": [
    "mean_of_file('dev/timing/nullspace_matrix.txt')"
   ]
  },
  {
   "cell_type": "markdown",
   "metadata": {},
   "source": [
    "## Torque calculation\n",
    "$T = J^{T} R + N_q$\n",
    "```python\n",
    "self.torques = np.dot(self.model.J_full.T, decoupled_wrench) + self.model.torque_compensation\n",
    "```\n",
    "\n",
    "7.8011719999918846e-06"
   ]
  },
  {
   "cell_type": "code",
   "execution_count": 124,
   "metadata": {},
   "outputs": [
    {
     "data": {
      "text/plain": [
       "7.8010290028921801e-06"
      ]
     },
     "execution_count": 124,
     "metadata": {},
     "output_type": "execute_result"
    }
   ],
   "source": [
    "mean_of_file('dev/timing/torque_calc.txt')"
   ]
  },
  {
   "cell_type": "markdown",
   "metadata": {},
   "source": [
    "## Orientation error\n",
    "```python\n",
    " error = 0.5 * (cross_product(rc1, rd1) + cross_product(rc2, rd2) + cross_product(rc3, rd3))\n",
    "    ```\n",
    "4.3748330250011679e-05"
   ]
  },
  {
   "cell_type": "code",
   "execution_count": 125,
   "metadata": {},
   "outputs": [
    {
     "data": {
      "text/plain": [
       "4.374822812282395e-05"
      ]
     },
     "execution_count": 125,
     "metadata": {},
     "output_type": "execute_result"
    }
   ],
   "source": [
    "mean_of_file('dev/timing/ori_error.txt')"
   ]
  },
  {
   "cell_type": "markdown",
   "metadata": {},
   "source": [
    "# Opspace Matrix calculation\n",
    "Run through all steps listed above. \n"
   ]
  },
  {
   "cell_type": "code",
   "execution_count": 133,
   "metadata": {},
   "outputs": [
    {
     "name": "stdout",
     "output_type": "stream",
     "text": [
      "Numpy : 8.0117159966e-05\n",
      "Scipy : 0.000296336054605\n",
      "Numba : 8.17423975897e-05\n",
      "Numba + uncoupling=False: 0.00194764575488\n",
      "Numba + uncoupling=True: 0.00311521829003\n"
     ]
    }
   ],
   "source": [
    "print(\"Numpy : \" + str(mean_of_file('dev/timing/np_opmat.txt')))\n",
    "print(\"Scipy : \" + str(mean_of_file('dev/timing/sc_opmat.txt')))\n",
    "print(\"Numba : \" + str(mean_of_file('dev/timing/numba_opmat.txt')))\n",
    "print(\"Numba + uncoupling=False: \" + str(mean_of_file('dev/timing/numba_unc_opmat.txt')))\n",
    "print(\"Numba + uncoupling=True: \" + str(mean_of_file('dev/timing/numba_unct_opmat.txt')))"
   ]
  },
  {
   "cell_type": "code",
   "execution_count": 130,
   "metadata": {},
   "outputs": [
    {
     "name": "stdout",
     "output_type": "stream",
     "text": [
      "Scipy : 0.000559096008751\n",
      "Numpy : 0.000313633741274\n",
      "Numba : 0.000321723123062\n",
      "Numba + uncoupling=False 0.00335044686569\n"
     ]
    }
   ],
   "source": [
    "\n",
    "print(\"Scipy : \" + str(mean_of_file('dev/timing/sc_torque_calc.txt')))\n",
    "print(\"Numpy : \" + str(mean_of_file('dev/timing/np_torque_calc.txt')))\n",
    "print(\"Numba : \" + str(mean_of_file('dev/timing/numba_torque_calc.txt')))\n",
    "print(\"Numba + uncoupling=False \" + str(mean_of_file('dev/timing/numba_unc_torque_calc.txt')))\n",
    "print(\"Numba + uncoupling: \" + str(mean_of_file('dev/timing/numba_unct_opmat.txt')))"
   ]
  },
  {
   "cell_type": "code",
   "execution_count": null,
   "metadata": {},
   "outputs": [],
   "source": []
  }
 ],
 "metadata": {
  "kernelspec": {
   "display_name": "Python 3",
   "language": "python",
   "name": "python3"
  },
  "language_info": {
   "codemirror_mode": {
    "name": "ipython",
    "version": 3
   },
   "file_extension": ".py",
   "mimetype": "text/x-python",
   "name": "python",
   "nbconvert_exporter": "python",
   "pygments_lexer": "ipython3",
   "version": "3.5.2"
  }
 },
 "nbformat": 4,
 "nbformat_minor": 2
}
